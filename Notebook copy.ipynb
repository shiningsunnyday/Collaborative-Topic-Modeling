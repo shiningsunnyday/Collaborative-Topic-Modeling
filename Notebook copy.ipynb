{
 "cells": [
  {
   "cell_type": "markdown",
   "metadata": {},
   "source": [
    "# Collaborative Topic Modeling in Python\n",
    "*by Mario Damiano Russo*\n",
    "\n",
    "\n",
    "In this notebook, we will implement **Collaborative Topic Modeling** as introduced in the 2011 paper by Wang and Blei “Collaborative topic modeling for recommending scientific articles”.\n",
    "\n",
    "We will use the model to build a scalable recommender system for steam Games, using two open-source, freely accessible datasets:\n",
    "- Steam 200k, containing information about per-game playtime for over 200k user-game interactions: https://www.kaggle.com/tamber/steam-video-games/version/1.\n",
    "- Steam games complete dataset, containing various information for over 40k different Steam games, including title and description: https://www.kaggle.com/trolukovich/steam-games-complete-dataset"
   ]
  },
  {
   "cell_type": "code",
   "execution_count": 1,
   "metadata": {},
   "outputs": [],
   "source": [
    "import pandas as pd\n",
    "import numpy as np\n",
    "import matplotlib.pyplot as plt\n",
    "\n",
    "import spacy\n",
    "from nltk.corpus import stopwords\n",
    "\n",
    "from gensim.models import LdaMulticore, TfidfModel\n",
    "from gensim.corpora import Dictionary\n",
    "\n",
    "import multiprocessing\n",
    "import spacy\n",
    "from nltk.corpus import stopwords\n",
    "\n",
    "from gensim.models import LdaMulticore, TfidfModel\n",
    "from gensim.corpora import Dictionary\n",
    "\n",
    "import multiprocessing\n",
    "\n",
    "from sklearn.metrics import mean_squared_error\n",
    "from tqdm import trange\n",
    "import sys\n",
    "import torch"
   ]
  },
  {
   "cell_type": "code",
   "execution_count": 4,
   "metadata": {},
   "outputs": [
    {
     "name": "stdout",
     "output_type": "stream",
     "text": [
      "Found 1991 titles for which we have both rating and description. \n",
      "Started with 37805 in the games dataset and 3600 in the ratings dataset.\n"
     ]
    }
   ],
   "source": [
    "# lowercase and apply special character removal to increase compatibility between titles\n",
    "def lower_removedots(s):\n",
    "    chars = ['!', ',', '.', '-', \"'\", '?', \":\", \"  \"]\n",
    "    for char in chars:\n",
    "        s = s.replace(char, \"\")\n",
    "    return s.lower()\n",
    "\n",
    "games.name = games.name.apply(lambda x: lower_removedots(x))\n",
    "ratings.Title = ratings.Title.apply(lambda x: lower_removedots(x))\n",
    "\n",
    "\n",
    "titles_game = set(games.name.to_list())\n",
    "titles_ratings = set(ratings.Title.to_list())\n",
    "\n",
    "# save the list of titles for which we have both rating and description\n",
    "intersection = titles_game.intersection(titles_ratings)\n",
    "\n",
    "print(f\"\"\"Found {len(intersection)} titles for which we have both rating and description. \n",
    "Started with {len(titles_game)} in the games dataset and {len(titles_ratings)} in the ratings dataset.\"\"\")"
   ]
  },
  {
   "cell_type": "code",
   "execution_count": 5,
   "metadata": {},
   "outputs": [
    {
     "name": "stdout",
     "output_type": "stream",
     "text": [
      "Found 9 duplicate entries in the games dataset.\n",
      "Found 0 duplicate entries in the games dataset.\n",
      "Dataset game entries match.\n"
     ]
    }
   ],
   "source": [
    "# we now restrict both datasets based on our intersection\n",
    "games = games[games.name.isin(intersection)]\n",
    "\n",
    "# some games are duplicates / have the same name but different developer. Since its a few, we drop them altogether.\n",
    "print(f\"Found {games[games.name.duplicated()].shape[0]} duplicate entries in the games dataset.\")\n",
    "intersection = intersection.difference(set(games[games.name.duplicated()].name.to_list()))\n",
    "games = games[games.name.isin(intersection)]\n",
    "print(f\"Found {games[games.name.duplicated()].shape[0]} duplicate entries in the games dataset.\")\n",
    "\n",
    "\n",
    "# the ratings dataset does not have duplicate item problems, so we just drop the titles we dropped in the games dataset.\n",
    "ratings = ratings[ratings.Title.isin(intersection)]\n",
    "\n",
    "# check to see that both datasets contain the same games.\n",
    "try:\n",
    "    assert len(set(ratings.Title.to_list())) == games.shape[0]\n",
    "    print(\"Dataset game entries match.\")\n",
    "except AssertionError:\n",
    "    raise Exception(\"Dataset game entries differ.\")"
   ]
  },
  {
   "cell_type": "markdown",
   "metadata": {},
   "source": [
    "# Creating the Ratings Matrix"
   ]
  },
  {
   "cell_type": "code",
   "execution_count": 6,
   "metadata": {},
   "outputs": [
    {
     "data": {
      "text/html": [
       "<div>\n",
       "<style scoped>\n",
       "    .dataframe tbody tr th:only-of-type {\n",
       "        vertical-align: middle;\n",
       "    }\n",
       "\n",
       "    .dataframe tbody tr th {\n",
       "        vertical-align: top;\n",
       "    }\n",
       "\n",
       "    .dataframe thead th {\n",
       "        text-align: right;\n",
       "    }\n",
       "</style>\n",
       "<table border=\"1\" class=\"dataframe\">\n",
       "  <thead>\n",
       "    <tr style=\"text-align: right;\">\n",
       "      <th></th>\n",
       "      <th>1 2 3 kick it (drop that beat like an ugly baby)</th>\n",
       "      <th>10 second ninja</th>\n",
       "      <th>100% orange juice</th>\n",
       "      <th>10000000</th>\n",
       "      <th>12 labours of hercules ii the cretan bull</th>\n",
       "      <th>12 labours of hercules iii girl power</th>\n",
       "      <th>140</th>\n",
       "      <th>16bit trader</th>\n",
       "      <th>18 wheels of steel american long haul</th>\n",
       "      <th>3 stars of destiny</th>\n",
       "      <th>...</th>\n",
       "      <th>ziggurat</th>\n",
       "      <th>zombi</th>\n",
       "      <th>zombie army trilogy</th>\n",
       "      <th>zombie grinder</th>\n",
       "      <th>zombie panic source</th>\n",
       "      <th>zombie shooter 2</th>\n",
       "      <th>zombie zoeds</th>\n",
       "      <th>zoombinis</th>\n",
       "      <th>zuma deluxe</th>\n",
       "      <th>zumas revenge</th>\n",
       "    </tr>\n",
       "    <tr>\n",
       "      <th>UserID</th>\n",
       "      <th></th>\n",
       "      <th></th>\n",
       "      <th></th>\n",
       "      <th></th>\n",
       "      <th></th>\n",
       "      <th></th>\n",
       "      <th></th>\n",
       "      <th></th>\n",
       "      <th></th>\n",
       "      <th></th>\n",
       "      <th></th>\n",
       "      <th></th>\n",
       "      <th></th>\n",
       "      <th></th>\n",
       "      <th></th>\n",
       "      <th></th>\n",
       "      <th></th>\n",
       "      <th></th>\n",
       "      <th></th>\n",
       "      <th></th>\n",
       "      <th></th>\n",
       "    </tr>\n",
       "  </thead>\n",
       "  <tbody>\n",
       "    <tr>\n",
       "      <th>5250</th>\n",
       "      <td>0.0</td>\n",
       "      <td>0.0</td>\n",
       "      <td>0.0</td>\n",
       "      <td>0.0</td>\n",
       "      <td>0.0</td>\n",
       "      <td>0.0</td>\n",
       "      <td>0.0</td>\n",
       "      <td>0.0</td>\n",
       "      <td>0.0</td>\n",
       "      <td>0.0</td>\n",
       "      <td>...</td>\n",
       "      <td>0.0</td>\n",
       "      <td>0.0</td>\n",
       "      <td>0.0</td>\n",
       "      <td>0.0</td>\n",
       "      <td>0.0</td>\n",
       "      <td>0.0</td>\n",
       "      <td>0.0</td>\n",
       "      <td>0.0</td>\n",
       "      <td>0.0</td>\n",
       "      <td>0.0</td>\n",
       "    </tr>\n",
       "    <tr>\n",
       "      <th>76767</th>\n",
       "      <td>0.0</td>\n",
       "      <td>0.0</td>\n",
       "      <td>0.0</td>\n",
       "      <td>0.0</td>\n",
       "      <td>0.0</td>\n",
       "      <td>0.0</td>\n",
       "      <td>0.0</td>\n",
       "      <td>0.0</td>\n",
       "      <td>0.0</td>\n",
       "      <td>0.0</td>\n",
       "      <td>...</td>\n",
       "      <td>0.0</td>\n",
       "      <td>0.0</td>\n",
       "      <td>0.0</td>\n",
       "      <td>0.0</td>\n",
       "      <td>0.0</td>\n",
       "      <td>0.0</td>\n",
       "      <td>0.0</td>\n",
       "      <td>0.0</td>\n",
       "      <td>0.0</td>\n",
       "      <td>0.0</td>\n",
       "    </tr>\n",
       "    <tr>\n",
       "      <th>86540</th>\n",
       "      <td>0.0</td>\n",
       "      <td>0.0</td>\n",
       "      <td>0.0</td>\n",
       "      <td>0.0</td>\n",
       "      <td>0.0</td>\n",
       "      <td>0.0</td>\n",
       "      <td>0.0</td>\n",
       "      <td>0.0</td>\n",
       "      <td>0.0</td>\n",
       "      <td>0.0</td>\n",
       "      <td>...</td>\n",
       "      <td>0.0</td>\n",
       "      <td>0.0</td>\n",
       "      <td>0.0</td>\n",
       "      <td>0.0</td>\n",
       "      <td>0.0</td>\n",
       "      <td>0.0</td>\n",
       "      <td>0.0</td>\n",
       "      <td>0.0</td>\n",
       "      <td>0.0</td>\n",
       "      <td>0.0</td>\n",
       "    </tr>\n",
       "  </tbody>\n",
       "</table>\n",
       "<p>3 rows × 1982 columns</p>\n",
       "</div>"
      ],
      "text/plain": [
       "        1 2 3 kick it (drop that beat like an ugly baby)  10 second ninja  \\\n",
       "UserID                                                                      \n",
       "5250                                                 0.0              0.0   \n",
       "76767                                                0.0              0.0   \n",
       "86540                                                0.0              0.0   \n",
       "\n",
       "        100% orange juice  10000000  \\\n",
       "UserID                                \n",
       "5250                  0.0       0.0   \n",
       "76767                 0.0       0.0   \n",
       "86540                 0.0       0.0   \n",
       "\n",
       "        12 labours of hercules ii the cretan bull  \\\n",
       "UserID                                              \n",
       "5250                                          0.0   \n",
       "76767                                         0.0   \n",
       "86540                                         0.0   \n",
       "\n",
       "        12 labours of hercules iii girl power  140  16bit trader  \\\n",
       "UserID                                                             \n",
       "5250                                      0.0  0.0           0.0   \n",
       "76767                                     0.0  0.0           0.0   \n",
       "86540                                     0.0  0.0           0.0   \n",
       "\n",
       "        18 wheels of steel american long haul  3 stars of destiny  ...  \\\n",
       "UserID                                                             ...   \n",
       "5250                                      0.0                 0.0  ...   \n",
       "76767                                     0.0                 0.0  ...   \n",
       "86540                                     0.0                 0.0  ...   \n",
       "\n",
       "        ziggurat  zombi  zombie army trilogy  zombie grinder  \\\n",
       "UserID                                                         \n",
       "5250         0.0    0.0                  0.0             0.0   \n",
       "76767        0.0    0.0                  0.0             0.0   \n",
       "86540        0.0    0.0                  0.0             0.0   \n",
       "\n",
       "        zombie panic source  zombie shooter 2  zombie zoeds  zoombinis  \\\n",
       "UserID                                                                   \n",
       "5250                    0.0               0.0           0.0        0.0   \n",
       "76767                   0.0               0.0           0.0        0.0   \n",
       "86540                   0.0               0.0           0.0        0.0   \n",
       "\n",
       "        zuma deluxe  zumas revenge  \n",
       "UserID                              \n",
       "5250            0.0            0.0  \n",
       "76767           0.0            0.0  \n",
       "86540           0.0            0.0  \n",
       "\n",
       "[3 rows x 1982 columns]"
      ]
     },
     "execution_count": 6,
     "metadata": {},
     "output_type": "execute_result"
    }
   ],
   "source": [
    "R = pd.pivot_table(data=ratings, values = [\"Value\"], index=[\"UserID\"], columns=[\"Title\"])\n",
    "\n",
    "# remove the level on top of game names called \"Value\"\n",
    "R.columns = R.columns.droplevel()\n",
    "\n",
    "# remove leftover columns name from pivot operation\n",
    "R.columns.name = \"\"\n",
    "\n",
    "# lastly, fill in the NaNs with 0's\n",
    "R.fillna(0, inplace=True)\n",
    "\n",
    "R.head(3)"
   ]
  },
  {
   "cell_type": "code",
   "execution_count": 7,
   "metadata": {},
   "outputs": [
    {
     "data": {
      "text/plain": [
       "(10058, 1982)"
      ]
     },
     "execution_count": 7,
     "metadata": {},
     "output_type": "execute_result"
    }
   ],
   "source": [
    "R.shape"
   ]
  },
  {
   "cell_type": "code",
   "execution_count": 6,
   "metadata": {},
   "outputs": [],
   "source": [
    "animes_R_warm=pd.read_csv(\"/Users/shiningsunnyday/Desktop/anime/data/anime/train_val_test/10000/10000_warm_pref_matrix_train_0.csv\",index_col=0)\n",
    "\n",
    "animes_R_warm_val=pd.read_csv(\"/Users/shiningsunnyday/Desktop/anime/data/anime/train_val_test/10000/10000_warm_pref_matrix_test_0.csv\",index_col=0)\n",
    "\n",
    "animes_R_cold=pd.read_csv(\"/Users/shiningsunnyday/Desktop/anime/data/anime/train_val_test/10000/10000_val_pref_matrix.csv\",index_col=0)"
   ]
  },
  {
   "cell_type": "markdown",
   "metadata": {},
   "source": [
    "# Vanilla Matrix Factorization\n",
    "We set a benchmark against which to compare CTM by implementing traditional Probabilistic Matrix Factorization."
   ]
  },
  {
   "cell_type": "code",
   "execution_count": 3,
   "metadata": {},
   "outputs": [
    {
     "ename": "NameError",
     "evalue": "name 'r' is not defined",
     "output_type": "error",
     "traceback": [
      "\u001b[0;31m---------------------------------------------------------------------------\u001b[0m",
      "\u001b[0;31mNameError\u001b[0m                                 Traceback (most recent call last)",
      "\u001b[1;32m/Users/shiningsunnyday/Desktop/Collaborative-Topic-Modeling/Notebook copy.ipynb Cell 10'\u001b[0m in \u001b[0;36m<cell line: 20>\u001b[0;34m()\u001b[0m\n\u001b[1;32m     <a href='vscode-notebook-cell:/Users/shiningsunnyday/Desktop/Collaborative-Topic-Modeling/Notebook%20copy.ipynb#ch0000014?line=15'>16</a>\u001b[0m     \u001b[39mreturn\u001b[39;00m train, validation\n\u001b[1;32m     <a href='vscode-notebook-cell:/Users/shiningsunnyday/Desktop/Collaborative-Topic-Modeling/Notebook%20copy.ipynb#ch0000014?line=18'>19</a>\u001b[0m train, val \u001b[39m=\u001b[39m animes_R_warm\u001b[39m.\u001b[39mvalues, animes_R_warm_val\u001b[39m.\u001b[39mvalues\n\u001b[1;32m     <a href='vscode-notebook-cell:/Users/shiningsunnyday/Desktop/Collaborative-Topic-Modeling/Notebook%20copy.ipynb#ch0000014?line=19'>20</a>\u001b[0m \u001b[39mprint\u001b[39m(\u001b[39mf\u001b[39m\u001b[39m\"\"\"\u001b[39m\u001b[39mTrain-test split exectuted.\u001b[39m\n\u001b[0;32m---> <a href='vscode-notebook-cell:/Users/shiningsunnyday/Desktop/Collaborative-Topic-Modeling/Notebook%20copy.ipynb#ch0000014?line=20'>21</a>\u001b[0m \u001b[39m      Train: \u001b[39m\u001b[39m{\u001b[39;00m\u001b[39mround\u001b[39m(\u001b[39mlen\u001b[39m(train\u001b[39m.\u001b[39mflatten()\u001b[39m.\u001b[39mnonzero()[\u001b[39m0\u001b[39m]) \u001b[39m/\u001b[39m \u001b[39mlen\u001b[39m(r\u001b[39m.\u001b[39mflatten()\u001b[39m.\u001b[39mnonzero()[\u001b[39m0\u001b[39m]) \u001b[39m*\u001b[39m \u001b[39m100\u001b[39m, \u001b[39m2\u001b[39m)\u001b[39m}\u001b[39;00m\u001b[39m% \u001b[39m\n\u001b[1;32m     <a href='vscode-notebook-cell:/Users/shiningsunnyday/Desktop/Collaborative-Topic-Modeling/Notebook%20copy.ipynb#ch0000014?line=21'>22</a>\u001b[0m \u001b[39m      Test: \u001b[39m\u001b[39m{\u001b[39;00m\u001b[39mround\u001b[39m(\u001b[39mlen\u001b[39m(val\u001b[39m.\u001b[39mflatten()\u001b[39m.\u001b[39mnonzero()[\u001b[39m0\u001b[39m]) \u001b[39m/\u001b[39m \u001b[39mlen\u001b[39m(r\u001b[39m.\u001b[39mflatten()\u001b[39m.\u001b[39mnonzero()[\u001b[39m0\u001b[39m]) \u001b[39m*\u001b[39m \u001b[39m100\u001b[39m, \u001b[39m2\u001b[39m)\u001b[39m}\u001b[39;00m\u001b[39m% \u001b[39m\u001b[39m\"\"\"\u001b[39m)\n",
      "\u001b[0;31mNameError\u001b[0m: name 'r' is not defined"
     ]
    }
   ],
   "source": [
    "# train - test split\n",
    "\n",
    "def train_test_split(ratings, percs = [0.8, 0.2]):\n",
    "    \n",
    "    validation = np.zeros(ratings.shape)\n",
    "    train = ratings.copy()\n",
    "    \n",
    "    for user in np.arange(ratings.shape[0]):\n",
    "        val_ratings = np.random.choice(ratings[user,:].nonzero()[0],\n",
    "                                        size = round(len(ratings[user,:].nonzero()[0]) * percs[1]),\n",
    "                                        replace=False\n",
    "                                        )\n",
    "        train[user, val_ratings] = 0\n",
    "        validation[user, val_ratings] = ratings[user, val_ratings]\n",
    "    \n",
    "    return train, validation\n",
    "\n",
    "\n",
    "train, val = animes_R_warm.values, animes_R_warm_val.values\n",
    "print(f\"\"\"Train-test split exectuted.\n",
    "      Train: {round(len(train.flatten().nonzero()[0]) / len(r.flatten().nonzero()[0]) * 100, 2)}% \n",
    "      Test: {round(len(val.flatten().nonzero()[0]) / len(r.flatten().nonzero()[0]) * 100, 2)}% \"\"\")\n"
   ]
  },
  {
   "cell_type": "code",
   "execution_count": null,
   "metadata": {},
   "outputs": [
    {
     "data": {
      "text/plain": [
       "((12767, 9000), (12767, 9000))"
      ]
     },
     "execution_count": 14,
     "metadata": {},
     "output_type": "execute_result"
    }
   ],
   "source": [
    "animes_R_warm.shape, animes_R_warm_val.shape"
   ]
  },
  {
   "cell_type": "code",
   "execution_count": 11,
   "metadata": {},
   "outputs": [],
   "source": [
    "\n",
    "def mse(prediction, ground_truth):\n",
    "    prediction = prediction[ground_truth.nonzero()].flatten()\n",
    "    ground_truth = ground_truth[ground_truth.nonzero()].flatten()\n",
    "    return mean_squared_error(prediction, ground_truth)"
   ]
  },
  {
   "cell_type": "code",
   "execution_count": 16,
   "metadata": {},
   "outputs": [],
   "source": [
    "\n",
    "\n",
    "class Recommender():\n",
    "    def __init__(self, n_epochs=200, n_latent_features=3, lmbda=0.01, learning_rate=0.001):\n",
    "        self.n_epochs = n_epochs\n",
    "        self.n_latent_features = n_latent_features\n",
    "        self.lmbda = lmbda\n",
    "        self.learning_rate = learning_rate\n",
    "    \n",
    "    def predictions(self, P, Q):\n",
    "        \"\"\"\n",
    "        returns dot product between:\n",
    "            P = vector of preferences for user u / matrix of preferences\n",
    "            Q = vector of qualities for item i / matrix of qualities\n",
    "        \"\"\"\n",
    "        return np.dot(P.T, Q)\n",
    "    \n",
    "    def fit(self, X_train, X_val):\n",
    "        # U = #users, I = #items\n",
    "        U, I = X_train.shape\n",
    "        \n",
    "        # random initialization\n",
    "        # get n_latent_features preference vectors of length U\n",
    "        # get n_latent_features qualities vectors of length I\n",
    "        # multiply both by 5 but any integer can go.\n",
    "        self.P = 5 * np.random.rand(self.n_latent_features, U)\n",
    "        self.Q = 5 * np.random.rand(self.n_latent_features, I)\n",
    "        \n",
    "        self.train_error = []\n",
    "        self.val_error = []\n",
    "        \n",
    "        # store the indices combinations (u, i) that are nonzero\n",
    "        users, items = X_train.nonzero()\n",
    "        \n",
    "        for iteration in trange(self.n_epochs, file=sys.stdout, desc='MF'):\n",
    "            for u, i in zip(users, items):\n",
    "                # compute the prediction error for the given cell (u, i)\n",
    "                error = X_train[u, i] - self.predictions(self.P[:, u], self.Q[:, i])\n",
    "                # update the vector of preferences for user u by considering the prediction error in (u, i)\n",
    "                self.P[:, u] += self.learning_rate * (self.Q[:, i] * error - self.lmbda * self.P[:, u])\n",
    "                # update the vector of preferences for item i by considering the prediction error in (u, i)\n",
    "                self.Q[:, i] += self.learning_rate * (self.P[:, u] * error - self.lmbda * self.Q[:, i])\n",
    "            self.train_error.append(mse(self.predictions(self.P, self.Q), X_train))\n",
    "            self.val_error.append(mse(self.predictions(self.P, self.Q), X_val))\n",
    "        \n",
    "        return self\n",
    "    \n",
    "    def predict(self, X_train, user_index):\n",
    "        # obtain the matrix of predicted ratings for all users and all items\n",
    "        y_hat = self.predictions(self.P, self.Q)\n",
    "        # then return the INDICES of the items for which there was no prediction for user u in the TRAINING SET\n",
    "        predictions_index = np.where(X_train[user_index, :] == 0)[0]\n",
    "        # return the predictions of the ratings that user u would give to the unrated elements.\n",
    "        return y_hat[user_index, predictions_index].flatten()"
   ]
  },
  {
   "cell_type": "code",
   "execution_count": 18,
   "metadata": {},
   "outputs": [
    {
     "name": "stdout",
     "output_type": "stream",
     "text": [
      "MF:   0%|          | 1/200 [00:21<1:12:40, 21.91s/it]\n"
     ]
    },
    {
     "ename": "KeyboardInterrupt",
     "evalue": "",
     "output_type": "error",
     "traceback": [
      "\u001b[0;31m---------------------------------------------------------------------------\u001b[0m",
      "\u001b[0;31mKeyboardInterrupt\u001b[0m                         Traceback (most recent call last)",
      "\u001b[1;32m/Users/shiningsunnyday/Desktop/Collaborative-Topic-Modeling/Notebook.ipynb Cell 19'\u001b[0m in \u001b[0;36m<cell line: 1>\u001b[0;34m()\u001b[0m\n\u001b[0;32m----> <a href='vscode-notebook-cell:/Users/shiningsunnyday/Desktop/Collaborative-Topic-Modeling/Notebook.ipynb#ch0000014?line=0'>1</a>\u001b[0m recommender \u001b[39m=\u001b[39m Recommender(n_epochs\u001b[39m=\u001b[39;49m\u001b[39m200\u001b[39;49m, n_latent_features\u001b[39m=\u001b[39;49m\u001b[39m3\u001b[39;49m, lmbda\u001b[39m=\u001b[39;49m\u001b[39m0.8\u001b[39;49m)\u001b[39m.\u001b[39;49mfit(animes_R_warm\u001b[39m.\u001b[39;49mvalues, animes_R_warm_val\u001b[39m.\u001b[39;49mvalues)\n\u001b[1;32m      <a href='vscode-notebook-cell:/Users/shiningsunnyday/Desktop/Collaborative-Topic-Modeling/Notebook.ipynb#ch0000014?line=2'>3</a>\u001b[0m \u001b[39mprint\u001b[39m(\u001b[39mf\u001b[39m\u001b[39m\"\"\"\u001b[39m\u001b[39mTraining done. \u001b[39m\n\u001b[1;32m      <a href='vscode-notebook-cell:/Users/shiningsunnyday/Desktop/Collaborative-Topic-Modeling/Notebook.ipynb#ch0000014?line=3'>4</a>\u001b[0m \u001b[39m        Train error: \u001b[39m\u001b[39m{\u001b[39;00mrecommender\u001b[39m.\u001b[39mtrain_error[\u001b[39m-\u001b[39m\u001b[39m1\u001b[39m]\u001b[39m}\u001b[39;00m\n\u001b[1;32m      <a href='vscode-notebook-cell:/Users/shiningsunnyday/Desktop/Collaborative-Topic-Modeling/Notebook.ipynb#ch0000014?line=4'>5</a>\u001b[0m \u001b[39m        Validation error: \u001b[39m\u001b[39m{\u001b[39;00mrecommender\u001b[39m.\u001b[39mval_error[\u001b[39m-\u001b[39m\u001b[39m1\u001b[39m]\u001b[39m}\u001b[39;00m\u001b[39m\"\"\"\u001b[39m)\n",
      "\u001b[1;32m/Users/shiningsunnyday/Desktop/Collaborative-Topic-Modeling/Notebook.ipynb Cell 18'\u001b[0m in \u001b[0;36mRecommender.fit\u001b[0;34m(self, X_train, X_val)\u001b[0m\n\u001b[1;32m     <a href='vscode-notebook-cell:/Users/shiningsunnyday/Desktop/Collaborative-Topic-Modeling/Notebook.ipynb#ch0000013?line=42'>43</a>\u001b[0m         \u001b[39mself\u001b[39m\u001b[39m.\u001b[39mQ[:, i] \u001b[39m+\u001b[39m\u001b[39m=\u001b[39m \u001b[39mself\u001b[39m\u001b[39m.\u001b[39mlearning_rate \u001b[39m*\u001b[39m (\u001b[39mself\u001b[39m\u001b[39m.\u001b[39mP[:, u] \u001b[39m*\u001b[39m error \u001b[39m-\u001b[39m \u001b[39mself\u001b[39m\u001b[39m.\u001b[39mlmbda \u001b[39m*\u001b[39m \u001b[39mself\u001b[39m\u001b[39m.\u001b[39mQ[:, i])\n\u001b[1;32m     <a href='vscode-notebook-cell:/Users/shiningsunnyday/Desktop/Collaborative-Topic-Modeling/Notebook.ipynb#ch0000013?line=43'>44</a>\u001b[0m     \u001b[39mself\u001b[39m\u001b[39m.\u001b[39mtrain_error\u001b[39m.\u001b[39mappend(mse(\u001b[39mself\u001b[39m\u001b[39m.\u001b[39mpredictions(\u001b[39mself\u001b[39m\u001b[39m.\u001b[39mP, \u001b[39mself\u001b[39m\u001b[39m.\u001b[39mQ), X_train))\n\u001b[0;32m---> <a href='vscode-notebook-cell:/Users/shiningsunnyday/Desktop/Collaborative-Topic-Modeling/Notebook.ipynb#ch0000013?line=44'>45</a>\u001b[0m     \u001b[39mself\u001b[39m\u001b[39m.\u001b[39mval_error\u001b[39m.\u001b[39mappend(mse(\u001b[39mself\u001b[39;49m\u001b[39m.\u001b[39;49mpredictions(\u001b[39mself\u001b[39;49m\u001b[39m.\u001b[39;49mP, \u001b[39mself\u001b[39;49m\u001b[39m.\u001b[39;49mQ), X_val))\n\u001b[1;32m     <a href='vscode-notebook-cell:/Users/shiningsunnyday/Desktop/Collaborative-Topic-Modeling/Notebook.ipynb#ch0000013?line=46'>47</a>\u001b[0m \u001b[39mreturn\u001b[39;00m \u001b[39mself\u001b[39m\n",
      "\u001b[1;32m/Users/shiningsunnyday/Desktop/Collaborative-Topic-Modeling/Notebook.ipynb Cell 17'\u001b[0m in \u001b[0;36mmse\u001b[0;34m(prediction, ground_truth)\u001b[0m\n\u001b[1;32m      <a href='vscode-notebook-cell:/Users/shiningsunnyday/Desktop/Collaborative-Topic-Modeling/Notebook.ipynb#ch0000012?line=2'>3</a>\u001b[0m \u001b[39mdef\u001b[39;00m \u001b[39mmse\u001b[39m(prediction, ground_truth):\n\u001b[0;32m----> <a href='vscode-notebook-cell:/Users/shiningsunnyday/Desktop/Collaborative-Topic-Modeling/Notebook.ipynb#ch0000012?line=3'>4</a>\u001b[0m     prediction \u001b[39m=\u001b[39m prediction[ground_truth\u001b[39m.\u001b[39;49mnonzero()]\u001b[39m.\u001b[39mflatten()\n\u001b[1;32m      <a href='vscode-notebook-cell:/Users/shiningsunnyday/Desktop/Collaborative-Topic-Modeling/Notebook.ipynb#ch0000012?line=4'>5</a>\u001b[0m     ground_truth \u001b[39m=\u001b[39m ground_truth[ground_truth\u001b[39m.\u001b[39mnonzero()]\u001b[39m.\u001b[39mflatten()\n\u001b[1;32m      <a href='vscode-notebook-cell:/Users/shiningsunnyday/Desktop/Collaborative-Topic-Modeling/Notebook.ipynb#ch0000012?line=5'>6</a>\u001b[0m     \u001b[39mreturn\u001b[39;00m mean_squared_error(prediction, ground_truth)\n",
      "\u001b[0;31mKeyboardInterrupt\u001b[0m: "
     ]
    }
   ],
   "source": [
    "recommender = Recommender(n_epochs=200, n_latent_features=3, lmbda=0.8).fit(animes_R_warm.values, animes_R_warm_val.values)\n",
    "\n",
    "print(f\"\"\"Training done. \n",
    "        Train error: {recommender.train_error[-1]}\n",
    "        Validation error: {recommender.val_error[-1]}\"\"\")"
   ]
  },
  {
   "cell_type": "code",
   "execution_count": null,
   "metadata": {},
   "outputs": [],
   "source": [
    "fig, ax = plt.subplots(figsize=(16, 9))\n",
    "\n",
    "ax.plot(recommender.train_error[2:], label = \"train_error\")\n",
    "ax.plot(recommender.val_error[2:], label = \"val_error\")\n",
    "ax.set_title(\"Probabilistic Matrix Factorization\")\n",
    "ax.set_ylabel(\"MSE\")\n",
    "ax.set_xlabel(\"Epochs\")\n",
    "ax.legend();"
   ]
  },
  {
   "cell_type": "markdown",
   "metadata": {},
   "source": [
    "# Topic Modeling with LDA"
   ]
  },
  {
   "cell_type": "code",
   "execution_count": null,
   "metadata": {},
   "outputs": [],
   "source": []
  },
  {
   "cell_type": "markdown",
   "metadata": {},
   "source": [
    "Since lemmatization can take some time, the preprocessed dataset with the lemmatized game description is included in the folder. For reference, here is the code that was used to produce it:\n",
    "\n",
    "```python\n",
    "nlp = spacy.load(\"en\")\n",
    "\n",
    "# lemmatize game descriptions\n",
    "games[\"lemmas\"] = [[[token.lemma_ if token.lemma_ != \"-PRON-\" else token.text.lower() \n",
    "                     for token in sentence if token.pos_ in {\"NOUN\", \"VERB\", \"ADJ\", \"ADV\", \"X\"}]\n",
    "                    for sentence in nlp(speech).sents] for speech in games.game_description]\n",
    "games.to_pickle(\"steam_games_preprocessed.pkl\")\n",
    "```"
   ]
  },
  {
   "cell_type": "code",
   "execution_count": 2,
   "metadata": {},
   "outputs": [],
   "source": [
    "animes = pd.read_pickle(\"animes_preprocessed.pkl\")\n",
    "animes_val = pd.read_pickle(\"animes_preprocessed_val.pkl\")"
   ]
  },
  {
   "cell_type": "code",
   "execution_count": 3,
   "metadata": {},
   "outputs": [
    {
     "data": {
      "text/plain": [
       "(1000, 9)"
      ]
     },
     "execution_count": 3,
     "metadata": {},
     "output_type": "execute_result"
    }
   ],
   "source": [
    "animes_train = pd.read_csv(\"/Users/shiningsunnyday/Desktop/anime/data/anime/train_val_test/10000/10000_animes_train_.csv\",index_col=0)\n",
    "animes_val = pd.read_csv(\"/Users/shiningsunnyday/Desktop/anime/data/anime/train_val_test/10000/10000_animes_val_.csv\")\n",
    "animes_warm = pd.read_csv(\"/Users/shiningsunnyday/Desktop/anime/data/anime/train_val_test/10000/10000_animes_warm_.csv\")\n",
    "\n",
    "animes_val.shape"
   ]
  },
  {
   "cell_type": "code",
   "execution_count": 25,
   "metadata": {},
   "outputs": [],
   "source": [
    "animes_description = pd.Series([str(x) for (x,y) in zip(animes_warm.synopsis, animes_warm.reviews)])\n",
    "\n",
    "nlp = spacy.load(\"en_core_web_sm\")\n",
    "\n",
    "# lemmatize game descriptions\n",
    "animes = pd.Series({\"description\":animes_description,\"lemmas\":animes_description})\n",
    "animes[\"lemmas\"] = [[[token.lemma_ if token.lemma_ != \"-PRON-\" else token.text.lower() \n",
    "                     for token in sentence if token.pos_ in {\"NOUN\", \"VERB\", \"ADJ\", \"ADV\", \"X\"}]\n",
    "                    for sentence in nlp(speech).sents] for speech in animes_description]\n",
    "animes.to_pickle(\"animes_preprocessed_synopsis.pkl\")"
   ]
  },
  {
   "cell_type": "code",
   "execution_count": 4,
   "metadata": {},
   "outputs": [
    {
     "name": "stdout",
     "output_type": "stream",
     "text": [
      "Dictionary(5349 unique tokens: ['[', 'able', 'act', 'again', 'alchemist']...)\n"
     ]
    }
   ],
   "source": [
    "animes = pd.read_pickle(\"animes_preprocessed_synopsis.pkl\")\n",
    "animes_val = pd.read_pickle(\"animes_preprocessed_val_synopsis.pkl\")\n",
    "\n",
    "# %%\n",
    "instances_val = [[lemma for lemmatized_sentence in lemmatized_speech for lemma in lemmatized_sentence]\n",
    "             for lemmatized_speech in animes_val.lemmas]\n",
    "\n",
    "# %%\n",
    "instances = [[lemma for lemmatized_sentence in lemmatized_speech for lemma in lemmatized_sentence]\n",
    "             for lemmatized_speech in animes.lemmas]\n",
    "\n",
    "dictionary = Dictionary(instances)\n",
    "\n",
    "dictionary.filter_extremes(no_below = 5, no_above = 0.7)\n",
    "print(dictionary)\n",
    "\n",
    "# %%\n",
    "ldacorpus = [dictionary.doc2bow(text) for text in instances]\n",
    "ldacorpus_val = [dictionary.doc2bow(text) for text in instances_val]\n",
    "\n",
    "num_topics = 100\n",
    "num_passes = 30\n",
    "chunk_size = len(ldacorpus) * num_passes/200\n",
    "\n",
    "\n"
   ]
  },
  {
   "cell_type": "code",
   "execution_count": 5,
   "metadata": {},
   "outputs": [
    {
     "ename": "NameError",
     "evalue": "name 'animes_R_warm' is not defined",
     "output_type": "error",
     "traceback": [
      "\u001b[0;31m---------------------------------------------------------------------------\u001b[0m",
      "\u001b[0;31mNameError\u001b[0m                                 Traceback (most recent call last)",
      "\u001b[1;32m/Users/shiningsunnyday/Desktop/Collaborative-Topic-Modeling/Notebook copy.ipynb Cell 23'\u001b[0m in \u001b[0;36m<cell line: 59>\u001b[0;34m()\u001b[0m\n\u001b[1;32m     <a href='vscode-notebook-cell:/Users/shiningsunnyday/Desktop/Collaborative-Topic-Modeling/Notebook%20copy.ipynb#ch0000024?line=55'>56</a>\u001b[0m theta_val \u001b[39m=\u001b[39m thet_val\u001b[39m.\u001b[39mvalues\n\u001b[1;32m     <a href='vscode-notebook-cell:/Users/shiningsunnyday/Desktop/Collaborative-Topic-Modeling/Notebook%20copy.ipynb#ch0000024?line=57'>58</a>\u001b[0m \u001b[39m# %%\u001b[39;00m\n\u001b[0;32m---> <a href='vscode-notebook-cell:/Users/shiningsunnyday/Desktop/Collaborative-Topic-Modeling/Notebook%20copy.ipynb#ch0000024?line=58'>59</a>\u001b[0m X_train \u001b[39m=\u001b[39m animes_R_warm\u001b[39m.\u001b[39mcopy()\n\u001b[1;32m     <a href='vscode-notebook-cell:/Users/shiningsunnyday/Desktop/Collaborative-Topic-Modeling/Notebook%20copy.ipynb#ch0000024?line=59'>60</a>\u001b[0m X_val \u001b[39m=\u001b[39m animes_R_warm_val\u001b[39m.\u001b[39mcopy()\n\u001b[1;32m     <a href='vscode-notebook-cell:/Users/shiningsunnyday/Desktop/Collaborative-Topic-Modeling/Notebook%20copy.ipynb#ch0000024?line=61'>62</a>\u001b[0m \u001b[39m# %%\u001b[39;00m\n",
      "\u001b[0;31mNameError\u001b[0m: name 'animes_R_warm' is not defined"
     ]
    }
   ],
   "source": [
    "\n",
    "model = LdaMulticore(num_topics=num_topics,\n",
    "                    corpus=ldacorpus,\n",
    "                    id2word=dictionary,\n",
    "                    workers=multiprocessing.cpu_count()-1,\n",
    "                    chunksize=chunk_size,\n",
    "                    passes=num_passes,\n",
    "                    alpha=0.1)\n",
    "\n",
    "# %%\n",
    "val_topics = model[ldacorpus_val]\n",
    "\n",
    "# %%\n",
    "train_topics = model.get_document_topics(ldacorpus, per_word_topics=True, minimum_probability=0.0)\n",
    "val_topics = model.get_document_topics(ldacorpus_val, per_word_topics=True, minimum_probability=0.0)\n",
    "\n",
    "def get_corpus_topics(all_topics):\n",
    "    corpus_topics = []  \n",
    "\n",
    "    for doc_topics, word_topics, phi_values in all_topics:\n",
    "        corpus_topics.append([topic[1] for topic in doc_topics])\n",
    "        \n",
    "    corpus_topics = np.array(corpus_topics)\n",
    "    return corpus_topics\n",
    "\n",
    "# %%\n",
    "# %%\n",
    "\n",
    "corpus_topics = get_corpus_topics(train_topics)\n",
    "val_corpus_topics = get_corpus_topics(val_topics)\n",
    "\n",
    "\n",
    "# %%\n",
    "words = [model.print_topics(num_topics=num_topics, num_words=5)[topic][1].split('\\\"')[1::2] for topic in range(num_topics)]\n",
    "\n",
    "words_per_topic = dict(zip(range(num_topics), words))\n",
    "\n",
    "# %%\n",
    "# WE REMOVE THE LATENT VECTOR OF THE HELDOUT GAME \n",
    "theta = corpus_topics.copy().T\n",
    "\n",
    "thet = pd.DataFrame(theta)\n",
    "# heldout_topics = thet.iloc[:, heldout_idx]\n",
    "# thet.drop(heldout_idx, axis = 1, inplace=True)\n",
    "theta = thet.values\n",
    "\n",
    "# %% [markdown]\n",
    "# # Collaborative Topic Modeling\n",
    "\n",
    "# %%\n",
    "# WE REMOVE THE LATENT VECTOR OF THE HELDOUT GAME \n",
    "theta_val = val_corpus_topics.copy().T\n",
    "\n",
    "thet_val = pd.DataFrame(theta_val)\n",
    "# heldout_topics = thet.iloc[:, heldout_idx]\n",
    "# thet.drop(heldout_idx, axis = 1, inplace=True)\n",
    "theta_val = thet_val.values\n",
    "\n"
   ]
  },
  {
   "cell_type": "code",
   "execution_count": 18,
   "metadata": {},
   "outputs": [
    {
     "data": {
      "text/plain": [
       "(100, 1000)"
      ]
     },
     "execution_count": 18,
     "metadata": {},
     "output_type": "execute_result"
    }
   ],
   "source": [
    "# %%\n",
    "X_train = animes_R_warm.copy()\n",
    "X_val = animes_R_warm_val.copy()\n",
    "\n",
    "# %%\n",
    "from tqdm import trange\n",
    "import sys\n",
    "\n",
    "def user_recall_at_M(M, R_hat_np, val_pref_matrix,guess=False):\n",
    "    ranking = np.argsort(-R_hat_np, axis=1)    \n",
    "    if guess: ranking=np.random.rand(*ranking.shape)\n",
    "    topM = ranking[:,:M]\n",
    "\n",
    "    pref = val_pref_matrix.to_numpy()\n",
    "\n",
    "    n = np.array([np.count_nonzero(topM[pref[:,i] > 0] == i) for i in range(pref.shape[1])])\n",
    "    d = np.sum(pref > 0, axis=0)\n",
    "    \n",
    "    return np.mean(n[d>0] / d[d>0])\n",
    "\n",
    "\n",
    "    \n",
    "theta_val.shape\n"
   ]
  },
  {
   "cell_type": "code",
   "execution_count": 21,
   "metadata": {},
   "outputs": [
    {
     "name": "stdout",
     "output_type": "stream",
     "text": [
      "CTM:   0%|          | 0/200 [00:00<?, ?it/s]warm baseline from guessing: 0.011336657419735769\n",
      "cold baseline from guessing: 0.10779916958663804\n",
      "iter 0, warm train recall 0.0275880629958033\n",
      "iter 0, cold train recall 0.12222431444791682\n",
      "CTM:   0%|          | 1/200 [00:34<1:55:17, 34.76s/it]warm baseline from guessing: 0.010008453541513139\n",
      "cold baseline from guessing: 0.10808150415619396\n",
      "iter 1, warm train recall 0.027537485577885164\n",
      "iter 1, cold train recall 0.12222431444791682\n",
      "CTM:   1%|          | 2/200 [01:08<1:53:32, 34.41s/it]warm baseline from guessing: 0.010476764522182743\n",
      "cold baseline from guessing: 0.10198824756148589\n",
      "iter 2, warm train recall 0.027428367048227344\n",
      "iter 2, cold train recall 0.12222431444791682\n",
      "CTM:   2%|▏         | 3/200 [01:42<1:52:11, 34.17s/it]warm baseline from guessing: 0.012200730491590515\n",
      "cold baseline from guessing: 0.09395166735244578\n",
      "iter 3, warm train recall 0.02739932845133853\n",
      "iter 3, cold train recall 0.12222431444791682\n",
      "CTM:   2%|▏         | 4/200 [02:20<1:55:45, 35.44s/it]warm baseline from guessing: 0.012987678674906735\n",
      "cold baseline from guessing: 0.09556834761312057\n",
      "iter 4, warm train recall 0.027705637885592906\n",
      "iter 4, cold train recall 0.12222431444791682\n",
      "CTM:   2%|▎         | 5/200 [02:54<1:53:27, 34.91s/it]warm baseline from guessing: 0.011284212115771682\n",
      "cold baseline from guessing: 0.07912020687195394\n",
      "iter 5, warm train recall 0.027584466999905844\n",
      "iter 5, cold train recall 0.12222431444791682\n",
      "CTM:   3%|▎         | 6/200 [03:29<1:53:10, 35.00s/it]warm baseline from guessing: 0.011923567671561058\n",
      "cold baseline from guessing: 0.10282250282821086\n",
      "iter 6, warm train recall 0.027607676230722925\n",
      "iter 6, cold train recall 0.12222431444791682\n",
      "CTM:   4%|▎         | 7/200 [04:04<1:52:30, 34.98s/it]warm baseline from guessing: 0.01197005799760791\n",
      "cold baseline from guessing: 0.10501498833964132\n",
      "iter 7, warm train recall 0.02782000508333022\n",
      "iter 7, cold train recall 0.12222431444791682\n",
      "CTM:   4%|▍         | 8/200 [04:39<1:52:20, 35.11s/it]warm baseline from guessing: 0.009801792680588834\n",
      "cold baseline from guessing: 0.09461990508253731\n",
      "iter 8, warm train recall 0.027980195082208448\n",
      "iter 8, cold train recall 0.12222431444791682\n",
      "CTM:   4%|▍         | 9/200 [05:14<1:51:47, 35.12s/it]warm baseline from guessing: 0.01268433003550077\n",
      "cold baseline from guessing: 0.10180854418545036\n",
      "iter 9, warm train recall 0.027834521909099925\n",
      "iter 9, cold train recall 0.12222431444791682\n",
      "CTM:   5%|▌         | 10/200 [05:49<1:50:23, 34.86s/it]warm baseline from guessing: 0.008946017636781482\n",
      "cold baseline from guessing: 0.08853208103271874\n",
      "iter 10, warm train recall 0.027852539947197955\n",
      "iter 10, cold train recall 0.12222431444791682\n",
      "CTM:   6%|▌         | 11/200 [06:23<1:48:57, 34.59s/it]warm baseline from guessing: 0.011085726928273481\n",
      "cold baseline from guessing: 0.10042696696712189\n",
      "iter 11, warm train recall 0.02766829573975961\n",
      "iter 11, cold train recall 0.12222431444791682\n",
      "CTM:   6%|▌         | 12/200 [06:56<1:47:20, 34.26s/it]warm baseline from guessing: 0.010103041188640386\n",
      "cold baseline from guessing: 0.1085405460121501\n",
      "iter 12, warm train recall 0.027684655522488513\n",
      "iter 12, cold train recall 0.12222431444791682\n",
      "CTM:   6%|▋         | 13/200 [07:30<1:46:51, 34.29s/it]warm baseline from guessing: 0.011215477494610198\n",
      "cold baseline from guessing: 0.11490017303882981\n",
      "iter 13, warm train recall 0.027720927292775685\n",
      "iter 13, cold train recall 0.12222431444791682\n",
      "CTM:   7%|▋         | 14/200 [08:05<1:46:06, 34.23s/it]warm baseline from guessing: 0.012245980735972843\n",
      "cold baseline from guessing: 0.1149324137507536\n",
      "iter 14, warm train recall 0.027631024740432532\n",
      "iter 14, cold train recall 0.12222431444791682\n",
      "CTM:   8%|▊         | 15/200 [08:38<1:45:16, 34.14s/it]warm baseline from guessing: 0.014188269725348115\n",
      "cold baseline from guessing: 0.09944898878014302\n",
      "iter 15, warm train recall 0.028224756354146275\n",
      "iter 15, cold train recall 0.12222431444791682\n",
      "CTM:   8%|▊         | 16/200 [09:13<1:45:11, 34.30s/it]warm baseline from guessing: 0.012142912918926335\n",
      "cold baseline from guessing: 0.09197039161422482\n",
      "iter 16, warm train recall 0.027950653769736284\n",
      "iter 16, cold train recall 0.12222431444791682\n",
      "CTM:   8%|▊         | 17/200 [09:48<1:44:47, 34.36s/it]warm baseline from guessing: 0.0105402152707472\n",
      "cold baseline from guessing: 0.08738353275547203\n",
      "iter 17, warm train recall 0.02776027688813446\n",
      "iter 17, cold train recall 0.12222431444791682\n",
      "CTM:   9%|▉         | 18/200 [10:21<1:43:44, 34.20s/it]warm baseline from guessing: 0.010269549213518425\n",
      "cold baseline from guessing: 0.09516284654941023\n",
      "iter 18, warm train recall 0.028382467353464138\n",
      "iter 18, cold train recall 0.12222431444791682\n",
      "CTM:  10%|▉         | 19/200 [10:55<1:42:42, 34.05s/it]warm baseline from guessing: 0.011779423190523188\n",
      "cold baseline from guessing: 0.10405831542875868\n",
      "iter 19, warm train recall 0.028460203055138203\n",
      "iter 19, cold train recall 0.12222431444791682\n",
      "CTM:  10%|█         | 20/200 [11:29<1:42:07, 34.04s/it]warm baseline from guessing: 0.013966517352693391\n",
      "cold baseline from guessing: 0.10990941731559674\n",
      "iter 20, warm train recall 0.02848042047717412\n",
      "iter 20, cold train recall 0.12222431444791682\n",
      "CTM:  10%|█         | 21/200 [12:03<1:41:09, 33.91s/it]warm baseline from guessing: 0.01254467475068989\n",
      "cold baseline from guessing: 0.09054031320068442\n",
      "iter 21, warm train recall 0.028098537797060456\n",
      "iter 21, cold train recall 0.12222431444791682\n",
      "CTM:  11%|█         | 22/200 [12:36<1:40:21, 33.83s/it]warm baseline from guessing: 0.010686687795822679\n",
      "cold baseline from guessing: 0.10980232006080706\n",
      "iter 22, warm train recall 0.028477653755143682\n",
      "iter 22, cold train recall 0.12222431444791682\n",
      "CTM:  12%|█▏        | 23/200 [13:10<1:39:33, 33.75s/it]warm baseline from guessing: 0.012183436972186877\n",
      "cold baseline from guessing: 0.0979265917558411\n",
      "iter 23, warm train recall 0.028345500748135043\n",
      "iter 23, cold train recall 0.12222431444791682\n",
      "CTM:  12%|█▏        | 24/200 [13:47<1:41:52, 34.73s/it]warm baseline from guessing: 0.01227763220540217\n",
      "cold baseline from guessing: 0.10269643790144578\n",
      "iter 24, warm train recall 0.028443108593324454\n",
      "iter 24, cold train recall 0.12222431444791682\n",
      "CTM:  12%|█▎        | 25/200 [14:24<1:42:55, 35.29s/it]warm baseline from guessing: 0.0088965783555899\n",
      "cold baseline from guessing: 0.09549081726235654\n",
      "iter 25, warm train recall 0.028397401694447082\n",
      "iter 25, cold train recall 0.12222431444791682\n",
      "CTM:  13%|█▎        | 26/200 [14:59<1:42:48, 35.45s/it]warm baseline from guessing: 0.010367069102938059\n",
      "cold baseline from guessing: 0.09679626548049168\n",
      "iter 26, warm train recall 0.028520531938743276\n",
      "iter 26, cold train recall 0.12222431444791682\n",
      "CTM:  14%|█▎        | 27/200 [15:36<1:43:25, 35.87s/it]warm baseline from guessing: 0.01326948251569317\n",
      "cold baseline from guessing: 0.10181326206767752\n",
      "iter 27, warm train recall 0.028259203190055874\n",
      "iter 27, cold train recall 0.12222431444791682\n",
      "CTM:  14%|█▍        | 28/200 [16:13<1:43:26, 36.08s/it]warm baseline from guessing: 0.012483057682941516\n",
      "cold baseline from guessing: 0.10553803724854523\n",
      "iter 28, warm train recall 0.028669675826359722\n",
      "iter 28, cold train recall 0.12222431444791682\n",
      "CTM:  14%|█▍        | 29/200 [16:49<1:42:57, 36.13s/it]warm baseline from guessing: 0.012540465626495923\n",
      "cold baseline from guessing: 0.10568453990161433\n",
      "iter 29, warm train recall 0.028433255733643355\n",
      "iter 29, cold train recall 0.12222431444791682\n",
      "CTM:  15%|█▌        | 30/200 [17:25<1:42:23, 36.14s/it]warm baseline from guessing: 0.013071629214964669\n",
      "cold baseline from guessing: 0.09741549228765016\n",
      "iter 30, warm train recall 0.028476134134665997\n",
      "iter 30, cold train recall 0.12222431444791682\n",
      "CTM:  16%|█▌        | 31/200 [18:01<1:41:43, 36.11s/it]warm baseline from guessing: 0.008547579176109312\n",
      "cold baseline from guessing: 0.10677442419481162\n",
      "iter 31, warm train recall 0.028130055062995804\n",
      "iter 31, cold train recall 0.12222431444791682\n",
      "CTM:  16%|█▌        | 32/200 [18:36<1:39:40, 35.60s/it]warm baseline from guessing: 0.010458850281987387\n",
      "cold baseline from guessing: 0.09891884390428496\n",
      "iter 32, warm train recall 0.027919253247176954\n",
      "iter 32, cold train recall 0.12222431444791682\n",
      "CTM:  16%|█▋        | 33/200 [19:10<1:38:15, 35.30s/it]warm baseline from guessing: 0.010798917940974852\n",
      "cold baseline from guessing: 0.0964943130056464\n",
      "iter 33, warm train recall 0.028143876500676485\n",
      "iter 33, cold train recall 0.12222431444791682\n",
      "CTM:  17%|█▋        | 34/200 [19:46<1:37:48, 35.35s/it]warm baseline from guessing: 0.009947661928106389\n",
      "cold baseline from guessing: 0.11270139190217685\n",
      "iter 34, warm train recall 0.02827231714602192\n",
      "iter 34, cold train recall 0.12222431444791682\n",
      "CTM:  18%|█▊        | 35/200 [20:21<1:37:19, 35.39s/it]warm baseline from guessing: 0.010826444694622909\n",
      "cold baseline from guessing: 0.09224610745202017\n",
      "iter 35, warm train recall 0.027922898137863018\n",
      "iter 35, cold train recall 0.12222431444791682\n",
      "CTM:  18%|█▊        | 36/200 [20:56<1:36:06, 35.16s/it]warm baseline from guessing: 0.011430369037703272\n",
      "cold baseline from guessing: 0.09828073695710222\n",
      "iter 36, warm train recall 0.027562771023302065\n",
      "iter 36, cold train recall 0.12222431444791682\n",
      "CTM:  18%|█▊        | 37/200 [21:31<1:35:51, 35.28s/it]warm baseline from guessing: 0.011552929207241193\n",
      "cold baseline from guessing: 0.1044968463867581\n",
      "iter 37, warm train recall 0.027514074487530592\n",
      "iter 37, cold train recall 0.12222431444791682\n",
      "CTM:  19%|█▉        | 38/200 [22:07<1:35:33, 35.39s/it]warm baseline from guessing: 0.008248248421919022\n",
      "cold baseline from guessing: 0.09818059285640073\n",
      "iter 38, warm train recall 0.027225947876990977\n",
      "iter 38, cold train recall 0.12222431444791682\n",
      "CTM:  20%|█▉        | 39/200 [22:43<1:35:01, 35.41s/it]warm baseline from guessing: 0.010122279015447221\n",
      "cold baseline from guessing: 0.09360986721051878\n",
      "iter 39, warm train recall 0.02695665040280943\n",
      "iter 39, cold train recall 0.12222431444791682\n",
      "CTM:  20%|██        | 40/200 [23:16<1:32:59, 34.87s/it]warm baseline from guessing: 0.010029327117253538\n",
      "cold baseline from guessing: 0.11479718239448897\n",
      "iter 40, warm train recall 0.02700644336954536\n",
      "iter 40, cold train recall 0.12222431444791682\n",
      "CTM:  20%|██        | 41/200 [23:49<1:30:24, 34.12s/it]warm baseline from guessing: 0.009383055437367472\n",
      "cold baseline from guessing: 0.10770274128755787\n",
      "iter 41, warm train recall 0.026997881263256883\n",
      "iter 41, cold train recall 0.12222431444791682\n",
      "CTM:  21%|██        | 42/200 [24:22<1:29:37, 34.04s/it]warm baseline from guessing: 0.008220806812648918\n",
      "cold baseline from guessing: 0.09682784388047552\n",
      "iter 42, warm train recall 0.02706708826118651\n",
      "iter 42, cold train recall 0.12222431444791682\n",
      "CTM:  22%|██▏       | 43/200 [24:55<1:28:06, 33.67s/it]warm baseline from guessing: 0.013695008936747485\n",
      "cold baseline from guessing: 0.09997087731577409\n",
      "iter 43, warm train recall 0.02685844505594415\n",
      "iter 43, cold train recall 0.12222431444791682\n",
      "CTM:  22%|██▏       | 44/200 [25:28<1:26:39, 33.33s/it]warm baseline from guessing: 0.01115176502344378\n",
      "cold baseline from guessing: 0.11283242381896473\n",
      "iter 44, warm train recall 0.026559546352866514\n",
      "iter 44, cold train recall 0.12222431444791682\n",
      "CTM:  22%|██▎       | 45/200 [26:00<1:25:31, 33.11s/it]warm baseline from guessing: 0.00981851666885041\n",
      "cold baseline from guessing: 0.08691888063592075\n",
      "iter 45, warm train recall 0.02669897317079983\n",
      "iter 45, cold train recall 0.12222431444791682\n",
      "CTM:  23%|██▎       | 46/200 [26:33<1:24:46, 33.03s/it]warm baseline from guessing: 0.009266498432110276\n",
      "cold baseline from guessing: 0.09715977490827274\n",
      "iter 46, warm train recall 0.02636769278247169\n",
      "iter 46, cold train recall 0.12222431444791682\n",
      "CTM:  24%|██▎       | 47/200 [27:09<1:26:26, 33.90s/it]warm baseline from guessing: 0.01140129674117639\n",
      "cold baseline from guessing: 0.09702460027668293\n",
      "iter 47, warm train recall 0.026473193928545226\n",
      "iter 47, cold train recall 0.12222431444791682\n",
      "CTM:  24%|██▍       | 48/200 [27:42<1:24:55, 33.53s/it]warm baseline from guessing: 0.012511371820779259\n",
      "cold baseline from guessing: 0.09011271124273401\n",
      "iter 48, warm train recall 0.026085276308146853\n",
      "iter 48, cold train recall 0.12222431444791682\n",
      "CTM:  24%|██▍       | 49/200 [28:14<1:23:29, 33.17s/it]warm baseline from guessing: 0.011899052782409563\n",
      "cold baseline from guessing: 0.10037555962168111\n",
      "iter 49, warm train recall 0.026137666185098937\n",
      "iter 49, cold train recall 0.12222431444791682\n",
      "CTM:  25%|██▌       | 50/200 [28:46<1:22:18, 32.92s/it]warm baseline from guessing: 0.008982767419810203\n",
      "cold baseline from guessing: 0.09098295539126385\n",
      "iter 50, warm train recall 0.02599257419579046\n",
      "iter 50, cold train recall 0.12222431444791682\n",
      "CTM:  26%|██▌       | 51/200 [29:19<1:21:17, 32.73s/it]warm baseline from guessing: 0.015406540469549545\n",
      "cold baseline from guessing: 0.10570716664734334\n",
      "iter 51, warm train recall 0.025781464242069747\n",
      "iter 51, cold train recall 0.12222431444791682\n",
      "CTM:  26%|██▌       | 52/200 [29:53<1:22:02, 33.26s/it]warm baseline from guessing: 0.00986345262576221\n",
      "cold baseline from guessing: 0.09305537325173724\n",
      "iter 52, warm train recall 0.025647807800026512\n",
      "iter 52, cold train recall 0.12222431444791682\n",
      "CTM:  26%|██▋       | 53/200 [30:28<1:22:26, 33.65s/it]warm baseline from guessing: 0.011185234047242877\n",
      "cold baseline from guessing: 0.09738570556665824\n",
      "iter 53, warm train recall 0.025765037849043736\n",
      "iter 53, cold train recall 0.12222431444791682\n",
      "CTM:  27%|██▋       | 54/200 [31:03<1:23:24, 34.28s/it]warm baseline from guessing: 0.014020577895574055\n",
      "cold baseline from guessing: 0.10713006190655776\n",
      "iter 54, warm train recall 0.02557996145624134\n",
      "iter 54, cold train recall 0.12222431444791682\n",
      "CTM:  28%|██▊       | 55/200 [31:37<1:22:14, 34.03s/it]warm baseline from guessing: 0.010063718279046384\n",
      "cold baseline from guessing: 0.10252120606252182\n",
      "iter 55, warm train recall 0.025568231816286428\n",
      "iter 55, cold train recall 0.12222431444791682\n",
      "CTM:  28%|██▊       | 56/200 [32:12<1:22:15, 34.28s/it]warm baseline from guessing: 0.010011016470732924\n",
      "cold baseline from guessing: 0.1029461980177009\n",
      "iter 56, warm train recall 0.02545859920535557\n",
      "iter 56, cold train recall 0.12222431444791682\n",
      "CTM:  28%|██▊       | 57/200 [32:48<1:23:00, 34.83s/it]warm baseline from guessing: 0.012177792306977785\n",
      "cold baseline from guessing: 0.0846263096383491\n",
      "iter 57, warm train recall 0.025122189752904065\n",
      "iter 57, cold train recall 0.12222431444791682\n",
      "CTM:  29%|██▉       | 58/200 [33:22<1:21:49, 34.57s/it]warm baseline from guessing: 0.009543553132450066\n",
      "cold baseline from guessing: 0.09345258478177994\n",
      "iter 58, warm train recall 0.025107660004504644\n",
      "iter 58, cold train recall 0.12222431444791682\n",
      "CTM:  30%|██▉       | 59/200 [33:56<1:20:40, 34.33s/it]warm baseline from guessing: 0.00805050905840589\n",
      "cold baseline from guessing: 0.10001552136310148\n",
      "iter 59, warm train recall 0.0249904678136426\n",
      "iter 59, cold train recall 0.12222431444791682\n",
      "CTM:  30%|███       | 60/200 [34:30<1:19:53, 34.24s/it]"
     ]
    }
   ],
   "source": [
    "import torch \n",
    "class CTM():\n",
    "    \"\"\"\n",
    "    Collaborative Topic Modeling Model as developed by Wang and Blei (2012).\n",
    "    Leverages topic proportions obtained from LDA model to improve predictions\n",
    "    and allow for out-of-matrix predictions.\n",
    "    \n",
    "    Parameters:\n",
    "        - sigma2: expected variance of ratings \n",
    "                  (variance of the ratings Normal prior)\n",
    "        - sigma2_P: expected variance of the elements of the\n",
    "                    preference vector\n",
    "        - sigma2_Q: expected variance of the elements of the\n",
    "                    quality vector\n",
    "    \"\"\"\n",
    "    def __init__(self, epochs=200, learning_rate=0.001, sigma2=10, sigma2_P=10, sigma2_Q=10):\n",
    "        self.epochs = epochs\n",
    "        self.learning_rate = learning_rate\n",
    "        self.sigma2 = sigma2\n",
    "        self.sigma2_P = sigma2_P\n",
    "        self.sigma2_Q = sigma2_Q\n",
    "    \n",
    "    \n",
    "    def fit(self, theta, X_train, X_val, X_out):\n",
    "        \"\"\"\n",
    "        Fit a CTM model.\n",
    "        \n",
    "        Parameters:\n",
    "            - theta: (K X I) matrix of topic proportions obtained via LDA.\n",
    "            - X_train: (U X I) ratings matrix to train the model on.\n",
    "            - X_test: (U X I) ratings matrix to validate the model on.\n",
    "        \"\"\"\n",
    "        \n",
    "        K = theta.shape[0]\n",
    "        U, I = X_train.shape\n",
    "        \n",
    "        #initialize P and Q matrices.\n",
    "        # P is initialized randomly\n",
    "        self.P = np.random.randint(0, 10) * np.random.rand(K, U)\n",
    "        # Q is initialized to be equal to theta\n",
    "        self.Q = theta.copy()\n",
    "        \n",
    "        self.train_error = []\n",
    "        self.val_error = []\n",
    "        self.train_recalls = []\n",
    "        self.cold_train_recalls = []\n",
    "        \n",
    "        # obtain the pairs of (u, i) indices for which we observe a rating\n",
    "        users, items = X_train.nonzero()\n",
    "\n",
    "        theta_val, animes_R_cold = X_out\n",
    "        \n",
    "        \n",
    "        \n",
    "        # begin training\n",
    "        for iteration in trange(self.epochs, file=sys.stdout, desc='CTM'):\n",
    "            for u, i in zip(users, items):\n",
    "                error = X_train[u, i] - np.dot(self.P[:, u].T, self.Q[:, i])\n",
    "\n",
    "                # we are MAXIMIZING the likelihood via gradient ascent\n",
    "                self.P[:, u] += self.learning_rate * (-self.P[:, u]/self.sigma2_P + (self.P[:, u] * error) * self.sigma2)\n",
    "                self.Q[:, i] += self.learning_rate * (-(self.Q[:, i] - theta[:, i])/self.sigma2_Q + (self.Q[:, i] * error) * self.sigma2)\n",
    "\n",
    "            self.train_error.append(mse(np.dot(self.P.T, self.Q), X_train))\n",
    "            self.val_error.append(mse(np.dot(self.P.T, self.Q), X_val))\n",
    "            self.train_recalls.append(user_recall_at_M(100,self.predict_ratings(), animes_R_warm_val))            \n",
    "            self.cold_train_recalls.append(user_recall_at_M(100,self.predict_out_of_matrix(theta_val),animes_R_cold))\n",
    "            warm_base = user_recall_at_M(100,torch.rand_like(torch.FloatTensor(self.predict_ratings())), animes_R_warm_val)\n",
    "            cold_base = user_recall_at_M(100,torch.rand_like(torch.FloatTensor(ctm.predict_out_of_matrix(theta_val))),animes_R_cold)\n",
    "            print(\"warm baseline from guessing:\", warm_base)\n",
    "            print(\"cold baseline from guessing:\", cold_base)\n",
    "            print(f\"iter {iteration}, warm train recall {self.train_recalls[-1]}\")\n",
    "            print(f\"iter {iteration}, cold train recall {self.cold_train_recalls[-1]}\")\n",
    "    \n",
    "    \n",
    "    \n",
    "    def predict_ratings(self):\n",
    "        \"\"\"\n",
    "        Returns the matrix of predicted ratings.\n",
    "        \"\"\"\n",
    "        return np.dot(self.P.T, self.Q)\n",
    "    \n",
    "    \n",
    "    \n",
    "    def predict_out_of_matrix(self, topics):\n",
    "        \"\"\"\n",
    "        Returns the (U X 1) vector of predicted ratings \n",
    "        for an unrated item, using the item's topic proportions.\n",
    "        \n",
    "        Parameters:\n",
    "            - topics: (K X 1) array of topic proportions\n",
    "                      for the unrated item.\n",
    "        \"\"\"\n",
    "        return np.dot(self.P.T, topics)\n",
    "\n",
    "# %%\n",
    "ctm = CTM(epochs=200, sigma2_P=5, sigma2_Q=5, sigma2=1)\n",
    "ctm.fit(theta, X_train.values, X_val.values, (theta_val, animes_R_cold))\n",
    "\n",
    "print(f\"\"\"Training done. \n",
    "        Train error: {ctm.train_error[-1]}\n",
    "        Validation error: {ctm.val_error[-1]}\"\"\")"
   ]
  },
  {
   "cell_type": "markdown",
   "metadata": {},
   "source": [
    "# Collaborative Topic Modeling"
   ]
  },
  {
   "cell_type": "markdown",
   "metadata": {},
   "source": [
    "X_val.shape"
   ]
  },
  {
   "cell_type": "code",
   "execution_count": 86,
   "metadata": {},
   "outputs": [
    {
     "data": {
      "text/plain": [
       "0.09194051155681729"
      ]
     },
     "execution_count": 86,
     "metadata": {},
     "output_type": "execute_result"
    }
   ],
   "source": [
    "user_recall_at_M(100,ctm.predict_out_of_matrix(theta_val),animes_R_cold)"
   ]
  },
  {
   "cell_type": "code",
   "execution_count": 78,
   "metadata": {},
   "outputs": [
    {
     "name": "stdout",
     "output_type": "stream",
     "text": [
      "0.10610648297838218\n",
      "0.10058487672496103\n",
      "0.09913568497285058\n",
      "0.09867652912072833\n",
      "0.09933361826917567\n",
      "0.09943889114551784\n",
      "0.10146899367866073\n",
      "0.10185797447545944\n",
      "0.10278698461467235\n",
      "0.10271661363526838\n"
     ]
    }
   ],
   "source": [
    "avg=[]\n",
    "for _ in range(10):\n",
    "    rec = user_recall_at_M(100,torch.rand_like(torch.FloatTensor(ctm.predict_out_of_matrix(theta_val))),animes_R_cold)\n",
    "    # rec = torch.rand_like(torch.FloatTensor(ctm.predict_ratings())\n",
    "    avg.append(rec)\n",
    "    print(sum(avg)/len(avg))\n",
    "\n"
   ]
  },
  {
   "cell_type": "code",
   "execution_count": 55,
   "metadata": {},
   "outputs": [
    {
     "name": "stdout",
     "output_type": "stream",
     "text": [
      "0.009289169012156172\n",
      "0.010316099927341501\n",
      "0.010751920998255879\n",
      "0.010952225073921618\n",
      "0.01107798084220692\n",
      "0.0110243750499455\n",
      "0.011026810411240111\n",
      "0.0111106974436567\n",
      "0.011183822222612518\n",
      "0.01135459670090273\n"
     ]
    }
   ],
   "source": [
    "\n",
    "\n",
    "avg=[]\n",
    "for _ in range(10):\n",
    "    avg.append(user_recall_at_M(100,torch.rand_like(torch.FloatTensor(ctm.predict_ratings())),X_val))\n",
    "    print(sum(avg)/len(avg))"
   ]
  },
  {
   "cell_type": "code",
   "execution_count": 48,
   "metadata": {},
   "outputs": [
    {
     "data": {
      "image/png": "[encoded data removed]",
      "text/plain": [
       "<Figure size 1152x648 with 1 Axes>"
      ]
     },
     "metadata": {
      "needs_background": "light"
     },
     "output_type": "display_data"
    }
   ],
   "source": [
    "fig, ax = plt.subplots(figsize=(16, 9))\n",
    "\n",
    "ax.plot(ctm.train_error, label = \"train_error\")\n",
    "ax.plot(ctm.val_error, label = \"val_error\")\n",
    "ax.set_title(\"Collaborative Topic Modeling\")\n",
    "ax.set_ylabel(\"MSE\")\n",
    "ax.set_xlabel(\"Epochs\")\n",
    "ax.legend();"
   ]
  },
  {
   "cell_type": "code",
   "execution_count": 25,
   "metadata": {},
   "outputs": [
    {
     "name": "stdout",
     "output_type": "stream",
     "text": [
      "MSE for the heldout game - need for speed undercover:\n",
      "0.29237484645396145\n"
     ]
    }
   ],
   "source": [
    "# out-of-matrix prediction\n",
    "\n",
    "heldout_predicted = np.dot(ctm.P.T, heldout_topics.values)\n",
    "\n",
    "print(f\"MSE for the heldout game - {heldout_name}:\")\n",
    "print(mse(heldout_predicted, heldout_ratings.values))"
   ]
  },
  {
   "cell_type": "markdown",
   "metadata": {},
   "source": [
    "## Additional analyses\n",
    "We can also study per-item topic relevances"
   ]
  },
  {
   "cell_type": "code",
   "execution_count": 26,
   "metadata": {},
   "outputs": [
    {
     "name": "stdout",
     "output_type": "stream",
     "text": [
      "Topic relevances for halflife:\n",
      "\t28.71: ['new', 'player', 'world', 'level', 'can']\n",
      "\t0.37: ['vampire', 'rid', 'virus', 'slice', 'practice']\n",
      "\t0.37: ['ambient', 'logic', 'skull', 'pc', 'puzzle']\n",
      "\t0.37: ['mechanism', 'slave', 'drift', 'quad', 'penguin']\n",
      "\t0.84: ['fuel', 'roster', 'league', 'swap', 'bury']\n",
      "\t0.37: ['vassal', 'pour', 'dreamlike', 'manor', 'scour']\n",
      "\t0.37: ['wreck', 'writing', 'rig', 'dwell', 'deepen']\n",
      "\t5.59: ['zombie', 'car', 'soul', 'lie', 'final']\n",
      "\t0.37: ['minimal', 'subtle', 'dad', 'espionage', 'shower']\n",
      "\t2.83: ['subterranean', 'bubble', 'shark', 'vector', 'anomaly']\n",
      "\t0.37: ['shocking', 'offspring', 'commodity', 'smell', 'manic']\n",
      "\t0.37: ['orc', 'mercy', 'multipli', 'lively', 'manga']\n",
      "\t0.37: ['wizard', 'stick', 'humor', 'franchise', 'cell']\n",
      "\t0.37: ['restaurant', 'pedestrian', 'garbage', 'idle', 'd']\n",
      "\t0.37: ['heist', 'performer', 'overarch', 'catchy', 'diehard']\n"
     ]
    }
   ],
   "source": [
    "gamename = \"halflife\"\n",
    "\n",
    "# find the index number of halflife\n",
    "for i, t in enumerate(R.columns):\n",
    "    if t == gamename:\n",
    "        idx = i\n",
    "        break\n",
    "        \n",
    "print(f\"Topic relevances for {gamename}:\")        \n",
    "for i, mixture in enumerate(ctm.Q[:, idx]):\n",
    "    print(f\"\\t{round(mixture * 100, 2)}: {words_per_topic[i]}\")"
   ]
  },
  {
   "cell_type": "markdown",
   "metadata": {},
   "source": [
    "# Further investigation - which genres are most popular?"
   ]
  },
  {
   "cell_type": "code",
   "execution_count": 27,
   "metadata": {},
   "outputs": [
    {
     "data": {
      "image/png": "[encoded data removed]",
      "text/plain": [
       "<Figure size 432x288 with 1 Axes>"
      ]
     },
     "metadata": {
      "needs_background": "light"
     },
     "output_type": "display_data"
    }
   ],
   "source": [
    "fig, ax = plt.subplots()\n",
    "\n",
    "# Example data\n",
    "labels = list(words_per_topic.values())\n",
    "performance = ctm.P.sum(axis=1)\n",
    "\n",
    "ax.barh([\", \".join(l) for l in labels], performance, align='center')\n",
    "ax.invert_yaxis()  # labels read top-to-bottom\n",
    "ax.set_xlabel('Popularity')\n",
    "ax.set_title('How Popular is each genre')\n",
    "\n",
    "plt.show()"
   ]
  },
  {
   "cell_type": "code",
   "execution_count": 28,
   "metadata": {},
   "outputs": [
    {
     "data": {
      "image/png": "[encoded data removed]",
      "text/plain": [
       "<Figure size 432x288 with 1 Axes>"
      ]
     },
     "metadata": {
      "needs_background": "light"
     },
     "output_type": "display_data"
    }
   ],
   "source": [
    "fig, ax = plt.subplots()\n",
    "\n",
    "# Example data\n",
    "labels = list(words_per_topic.values())\n",
    "performance = ctm.Q.sum(axis=1)\n",
    "\n",
    "ax.barh([\", \".join(l) for l in labels], performance, align='center')\n",
    "ax.invert_yaxis()  # labels read top-to-bottom\n",
    "ax.set_xlabel('Popularity')\n",
    "ax.set_title('Genre mixtures across analysed games')\n",
    "\n",
    "plt.show()"
   ]
  },
  {
   "cell_type": "code",
   "execution_count": null,
   "metadata": {},
   "outputs": [],
   "source": []
  }
 ],
 "metadata": {
  "kernelspec": {
   "display_name": "Python 3",
   "language": "python",
   "name": "python3"
  },
  "language_info": {
   "codemirror_mode": {
    "name": "ipython",
    "version": 3
   },
   "file_extension": ".py",
   "mimetype": "text/x-python",
   "name": "python",
   "nbconvert_exporter": "python",
   "pygments_lexer": "ipython3",
   "version": "3.8.8"
  }
 },
 "nbformat": 4,
 "nbformat_minor": 2
}
